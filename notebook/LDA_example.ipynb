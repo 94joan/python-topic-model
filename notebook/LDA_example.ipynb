{
 "cells": [
  {
   "cell_type": "markdown",
   "metadata": {},
   "source": [
    "# Example of GibbsLDA and vbLDA"
   ]
  },
  {
   "cell_type": "markdown",
   "metadata": {},
   "source": [
    "This example requires to install three nltk corpora:nltk.corpus.reuters, nltk.corpus.words, nltk.corpus.stopwords.\n",
    "\n",
    "You can download the corpora via `nltk.download()`"
   ]
  },
  {
   "cell_type": "code",
   "execution_count": 1,
   "metadata": {
    "collapsed": false
   },
   "outputs": [],
   "source": [
    "import logging\n",
    "\n",
    "import numpy as np\n",
    "from ptm import GibbsLDA\n",
    "from ptm import vbLDA\n",
    "from ptm.nltk_corpus import get_reuters_cnt_ids\n",
    "from ptm.utils import convert_cnt_to_list, get_top_words"
   ]
  },
  {
   "cell_type": "markdown",
   "metadata": {},
   "source": [
    "## Loading Reuter corpus from NLTK"
   ]
  },
  {
   "cell_type": "markdown",
   "metadata": {},
   "source": [
    "Load reuter corpus including 1000 documents with maximum vocabulary size of 10000 from NLTK corpus"
   ]
  },
  {
   "cell_type": "code",
   "execution_count": 2,
   "metadata": {
    "collapsed": false
   },
   "outputs": [
    {
     "name": "stdout",
     "output_type": "stream",
     "text": [
      "Vocabulary size:4632\n"
     ]
    }
   ],
   "source": [
    "n_doc = 1000\n",
    "voca, doc_ids, doc_cnt = get_reuters_cnt_ids(num_doc=n_doc, max_voca=10000)\n",
    "docs = convert_cnt_to_list(doc_ids, doc_cnt)\n",
    "n_voca = len(voca)\n",
    "print('Vocabulary size:%d' % n_voca)"
   ]
  },
  {
   "cell_type": "markdown",
   "metadata": {},
   "source": [
    "## Inferencen through the Gibbs sampling"
   ]
  },
  {
   "cell_type": "code",
   "execution_count": 3,
   "metadata": {
    "collapsed": false
   },
   "outputs": [
    {
     "name": "stderr",
     "output_type": "stream",
     "text": [
      "2016-02-10 12:25:36 INFO:GibbsLDA:[ITER] 0,\telapsed time:0.88,\tlog_-447691.97\n",
      "2016-02-10 12:25:37 INFO:GibbsLDA:[ITER] 1,\telapsed time:0.87,\tlog_-422574.80\n",
      "2016-02-10 12:25:38 INFO:GibbsLDA:[ITER] 2,\telapsed time:0.91,\tlog_-405916.54\n",
      "2016-02-10 12:25:38 INFO:GibbsLDA:[ITER] 3,\telapsed time:0.90,\tlog_-394912.30\n",
      "2016-02-10 12:25:39 INFO:GibbsLDA:[ITER] 4,\telapsed time:0.87,\tlog_-387023.43\n",
      "2016-02-10 12:25:40 INFO:GibbsLDA:[ITER] 5,\telapsed time:0.86,\tlog_-381367.42\n",
      "2016-02-10 12:25:41 INFO:GibbsLDA:[ITER] 6,\telapsed time:0.83,\tlog_-376728.70\n",
      "2016-02-10 12:25:42 INFO:GibbsLDA:[ITER] 7,\telapsed time:0.86,\tlog_-373480.43\n",
      "2016-02-10 12:25:43 INFO:GibbsLDA:[ITER] 8,\telapsed time:0.87,\tlog_-370704.34\n",
      "2016-02-10 12:25:44 INFO:GibbsLDA:[ITER] 9,\telapsed time:0.86,\tlog_-368371.24\n",
      "2016-02-10 12:25:45 INFO:GibbsLDA:[ITER] 10,\telapsed time:0.87,\tlog_-366379.43\n",
      "2016-02-10 12:25:45 INFO:GibbsLDA:[ITER] 11,\telapsed time:0.85,\tlog_-364986.46\n",
      "2016-02-10 12:25:46 INFO:GibbsLDA:[ITER] 12,\telapsed time:0.86,\tlog_-363442.28\n",
      "2016-02-10 12:25:47 INFO:GibbsLDA:[ITER] 13,\telapsed time:0.90,\tlog_-362070.72\n",
      "2016-02-10 12:25:48 INFO:GibbsLDA:[ITER] 14,\telapsed time:0.86,\tlog_-361095.81\n",
      "2016-02-10 12:25:49 INFO:GibbsLDA:[ITER] 15,\telapsed time:0.84,\tlog_-359662.16\n",
      "2016-02-10 12:25:50 INFO:GibbsLDA:[ITER] 16,\telapsed time:0.85,\tlog_-358727.63\n",
      "2016-02-10 12:25:51 INFO:GibbsLDA:[ITER] 17,\telapsed time:0.87,\tlog_-357851.35\n",
      "2016-02-10 12:25:52 INFO:GibbsLDA:[ITER] 18,\telapsed time:0.84,\tlog_-357083.47\n",
      "2016-02-10 12:25:52 INFO:GibbsLDA:[ITER] 19,\telapsed time:0.85,\tlog_-356352.27\n",
      "2016-02-10 12:25:53 INFO:GibbsLDA:[ITER] 20,\telapsed time:0.82,\tlog_-355463.14\n",
      "2016-02-10 12:25:54 INFO:GibbsLDA:[ITER] 21,\telapsed time:0.85,\tlog_-354827.85\n",
      "2016-02-10 12:25:55 INFO:GibbsLDA:[ITER] 22,\telapsed time:0.84,\tlog_-354226.68\n",
      "2016-02-10 12:25:56 INFO:GibbsLDA:[ITER] 23,\telapsed time:0.84,\tlog_-353810.59\n",
      "2016-02-10 12:25:57 INFO:GibbsLDA:[ITER] 24,\telapsed time:0.84,\tlog_-353190.32\n",
      "2016-02-10 12:25:58 INFO:GibbsLDA:[ITER] 25,\telapsed time:0.82,\tlog_-352741.89\n",
      "2016-02-10 12:25:58 INFO:GibbsLDA:[ITER] 26,\telapsed time:0.87,\tlog_-352183.81\n",
      "2016-02-10 12:25:59 INFO:GibbsLDA:[ITER] 27,\telapsed time:0.87,\tlog_-351812.20\n",
      "2016-02-10 12:26:00 INFO:GibbsLDA:[ITER] 28,\telapsed time:0.84,\tlog_-351183.97\n",
      "2016-02-10 12:26:01 INFO:GibbsLDA:[ITER] 29,\telapsed time:0.84,\tlog_-350920.28\n",
      "2016-02-10 12:26:02 INFO:GibbsLDA:[ITER] 30,\telapsed time:0.81,\tlog_-351032.38\n",
      "2016-02-10 12:26:03 INFO:GibbsLDA:[ITER] 31,\telapsed time:0.84,\tlog_-350530.59\n",
      "2016-02-10 12:26:04 INFO:GibbsLDA:[ITER] 32,\telapsed time:0.83,\tlog_-350167.91\n",
      "2016-02-10 12:26:04 INFO:GibbsLDA:[ITER] 33,\telapsed time:0.84,\tlog_-349919.19\n",
      "2016-02-10 12:26:05 INFO:GibbsLDA:[ITER] 34,\telapsed time:0.84,\tlog_-349736.91\n",
      "2016-02-10 12:26:06 INFO:GibbsLDA:[ITER] 35,\telapsed time:0.84,\tlog_-349372.24\n",
      "2016-02-10 12:26:07 INFO:GibbsLDA:[ITER] 36,\telapsed time:0.84,\tlog_-349452.12\n",
      "2016-02-10 12:26:08 INFO:GibbsLDA:[ITER] 37,\telapsed time:0.82,\tlog_-348942.42\n",
      "2016-02-10 12:26:09 INFO:GibbsLDA:[ITER] 38,\telapsed time:0.87,\tlog_-348596.68\n",
      "2016-02-10 12:26:10 INFO:GibbsLDA:[ITER] 39,\telapsed time:0.82,\tlog_-348578.91\n",
      "2016-02-10 12:26:10 INFO:GibbsLDA:[ITER] 40,\telapsed time:0.83,\tlog_-348752.62\n",
      "2016-02-10 12:26:11 INFO:GibbsLDA:[ITER] 41,\telapsed time:0.81,\tlog_-348601.87\n",
      "2016-02-10 12:26:12 INFO:GibbsLDA:[ITER] 42,\telapsed time:0.80,\tlog_-348708.24\n",
      "2016-02-10 12:26:13 INFO:GibbsLDA:[ITER] 43,\telapsed time:0.81,\tlog_-348233.13\n",
      "2016-02-10 12:26:14 INFO:GibbsLDA:[ITER] 44,\telapsed time:0.80,\tlog_-347969.85\n",
      "2016-02-10 12:26:15 INFO:GibbsLDA:[ITER] 45,\telapsed time:0.86,\tlog_-347685.66\n",
      "2016-02-10 12:26:15 INFO:GibbsLDA:[ITER] 46,\telapsed time:0.83,\tlog_-347619.67\n",
      "2016-02-10 12:26:16 INFO:GibbsLDA:[ITER] 47,\telapsed time:0.81,\tlog_-347362.22\n",
      "2016-02-10 12:26:17 INFO:GibbsLDA:[ITER] 48,\telapsed time:0.84,\tlog_-347426.23\n",
      "2016-02-10 12:26:18 INFO:GibbsLDA:[ITER] 49,\telapsed time:0.86,\tlog_-347316.24\n",
      "2016-02-10 12:26:19 INFO:GibbsLDA:[ITER] 50,\telapsed time:0.86,\tlog_-347225.22\n",
      "2016-02-10 12:26:20 INFO:GibbsLDA:[ITER] 51,\telapsed time:0.82,\tlog_-347070.23\n",
      "2016-02-10 12:26:20 INFO:GibbsLDA:[ITER] 52,\telapsed time:0.80,\tlog_-347264.38\n",
      "2016-02-10 12:26:21 INFO:GibbsLDA:[ITER] 53,\telapsed time:0.80,\tlog_-346855.80\n",
      "2016-02-10 12:26:22 INFO:GibbsLDA:[ITER] 54,\telapsed time:0.82,\tlog_-346927.69\n",
      "2016-02-10 12:26:23 INFO:GibbsLDA:[ITER] 55,\telapsed time:0.87,\tlog_-347012.77\n",
      "2016-02-10 12:26:24 INFO:GibbsLDA:[ITER] 56,\telapsed time:0.80,\tlog_-346682.05\n",
      "2016-02-10 12:26:25 INFO:GibbsLDA:[ITER] 57,\telapsed time:0.81,\tlog_-346519.01\n",
      "2016-02-10 12:26:25 INFO:GibbsLDA:[ITER] 58,\telapsed time:0.79,\tlog_-346234.82\n",
      "2016-02-10 12:26:26 INFO:GibbsLDA:[ITER] 59,\telapsed time:0.80,\tlog_-346206.98\n",
      "2016-02-10 12:26:27 INFO:GibbsLDA:[ITER] 60,\telapsed time:0.80,\tlog_-346278.09\n",
      "2016-02-10 12:26:28 INFO:GibbsLDA:[ITER] 61,\telapsed time:0.81,\tlog_-346214.42\n",
      "2016-02-10 12:26:29 INFO:GibbsLDA:[ITER] 62,\telapsed time:0.81,\tlog_-346000.23\n",
      "2016-02-10 12:26:30 INFO:GibbsLDA:[ITER] 63,\telapsed time:0.85,\tlog_-346144.19\n",
      "2016-02-10 12:26:30 INFO:GibbsLDA:[ITER] 64,\telapsed time:0.80,\tlog_-345999.30\n",
      "2016-02-10 12:26:31 INFO:GibbsLDA:[ITER] 65,\telapsed time:0.88,\tlog_-346130.62\n",
      "2016-02-10 12:26:32 INFO:GibbsLDA:[ITER] 66,\telapsed time:0.89,\tlog_-346050.46\n",
      "2016-02-10 12:26:33 INFO:GibbsLDA:[ITER] 67,\telapsed time:0.92,\tlog_-345994.94\n",
      "2016-02-10 12:26:34 INFO:GibbsLDA:[ITER] 68,\telapsed time:0.90,\tlog_-346030.63\n",
      "2016-02-10 12:26:35 INFO:GibbsLDA:[ITER] 69,\telapsed time:0.90,\tlog_-345907.56\n",
      "2016-02-10 12:26:36 INFO:GibbsLDA:[ITER] 70,\telapsed time:0.83,\tlog_-345663.80\n",
      "2016-02-10 12:26:37 INFO:GibbsLDA:[ITER] 71,\telapsed time:0.88,\tlog_-346050.62\n",
      "2016-02-10 12:26:38 INFO:GibbsLDA:[ITER] 72,\telapsed time:0.91,\tlog_-345819.10\n",
      "2016-02-10 12:26:39 INFO:GibbsLDA:[ITER] 73,\telapsed time:0.91,\tlog_-345985.02\n",
      "2016-02-10 12:26:39 INFO:GibbsLDA:[ITER] 74,\telapsed time:0.92,\tlog_-345681.00\n",
      "2016-02-10 12:26:40 INFO:GibbsLDA:[ITER] 75,\telapsed time:0.92,\tlog_-345350.99\n",
      "2016-02-10 12:26:41 INFO:GibbsLDA:[ITER] 76,\telapsed time:0.85,\tlog_-345303.50\n",
      "2016-02-10 12:26:42 INFO:GibbsLDA:[ITER] 77,\telapsed time:0.93,\tlog_-345475.73\n",
      "2016-02-10 12:26:43 INFO:GibbsLDA:[ITER] 78,\telapsed time:0.93,\tlog_-345537.06\n",
      "2016-02-10 12:26:44 INFO:GibbsLDA:[ITER] 79,\telapsed time:0.91,\tlog_-345241.95\n",
      "2016-02-10 12:26:45 INFO:GibbsLDA:[ITER] 80,\telapsed time:0.91,\tlog_-345166.16\n",
      "2016-02-10 12:26:46 INFO:GibbsLDA:[ITER] 81,\telapsed time:0.92,\tlog_-344834.53\n",
      "2016-02-10 12:26:47 INFO:GibbsLDA:[ITER] 82,\telapsed time:0.84,\tlog_-345060.78\n",
      "2016-02-10 12:26:48 INFO:GibbsLDA:[ITER] 83,\telapsed time:0.81,\tlog_-344935.59\n",
      "2016-02-10 12:26:48 INFO:GibbsLDA:[ITER] 84,\telapsed time:0.84,\tlog_-344812.57\n",
      "2016-02-10 12:26:49 INFO:GibbsLDA:[ITER] 85,\telapsed time:0.89,\tlog_-344618.24\n",
      "2016-02-10 12:26:50 INFO:GibbsLDA:[ITER] 86,\telapsed time:0.90,\tlog_-344600.30\n",
      "2016-02-10 12:26:51 INFO:GibbsLDA:[ITER] 87,\telapsed time:0.88,\tlog_-344559.59\n",
      "2016-02-10 12:26:52 INFO:GibbsLDA:[ITER] 88,\telapsed time:0.81,\tlog_-344737.62\n",
      "2016-02-10 12:26:53 INFO:GibbsLDA:[ITER] 89,\telapsed time:0.80,\tlog_-344615.19\n",
      "2016-02-10 12:26:54 INFO:GibbsLDA:[ITER] 90,\telapsed time:0.81,\tlog_-344853.48\n",
      "2016-02-10 12:26:54 INFO:GibbsLDA:[ITER] 91,\telapsed time:0.80,\tlog_-344594.88\n",
      "2016-02-10 12:26:55 INFO:GibbsLDA:[ITER] 92,\telapsed time:0.81,\tlog_-344700.13\n",
      "2016-02-10 12:26:56 INFO:GibbsLDA:[ITER] 93,\telapsed time:0.85,\tlog_-344703.45\n",
      "2016-02-10 12:26:57 INFO:GibbsLDA:[ITER] 94,\telapsed time:0.84,\tlog_-344490.14\n",
      "2016-02-10 12:26:58 INFO:GibbsLDA:[ITER] 95,\telapsed time:0.80,\tlog_-344556.40\n",
      "2016-02-10 12:26:59 INFO:GibbsLDA:[ITER] 96,\telapsed time:0.82,\tlog_-344128.41\n",
      "2016-02-10 12:27:00 INFO:GibbsLDA:[ITER] 97,\telapsed time:0.84,\tlog_-344019.88\n",
      "2016-02-10 12:27:00 INFO:GibbsLDA:[ITER] 98,\telapsed time:0.82,\tlog_-344504.68\n",
      "2016-02-10 12:27:01 INFO:GibbsLDA:[ITER] 99,\telapsed time:0.80,\tlog_-344207.91\n"
     ]
    }
   ],
   "source": [
    "max_iter=100\n",
    "n_topic=10\n",
    "\n",
    "logger = logging.getLogger('GibbsLDA')\n",
    "logger.propagate = False\n",
    "\n",
    "model = GibbsLDA(n_doc, len(voca), n_topic)\n",
    "model.fit(docs, max_iter=max_iter)"
   ]
  },
  {
   "cell_type": "markdown",
   "metadata": {
    "collapsed": true
   },
   "source": [
    "### Print top 10 probability words for each topic"
   ]
  },
  {
   "cell_type": "code",
   "execution_count": 4,
   "metadata": {
    "collapsed": false
   },
   "outputs": [
    {
     "name": "stdout",
     "output_type": "stream",
     "text": [
      "Topic 0 :\t loss,quarter,first,profit,note,share,corp,earnings,tax,income\n",
      "Topic 1 :\t rate,rise,march,week,last,days,fed,sugar,money,federal\n",
      "Topic 2 :\t market,bank,canadian,investment,chairman,canada,assets,two,day,told\n",
      "Topic 3 :\t stocks,last,wheat,grain,production,month,department,crop,dome,agriculture\n",
      "Topic 4 :\t would,trade,could,growth,also,cut,european,west,one,market\n",
      "Topic 5 :\t share,stock,offer,corp,price,april,common,cash,acquisition,new\n",
      "Topic 6 :\t dollar,bank,yen,trade,economic,currency,exchange,current,around,would\n",
      "Topic 7 :\t japan,may,record,meeting,japanese,april,agreement,market,pay,told\n",
      "Topic 8 :\t one,gold,split,two,international,stock,corp,group,statement,insurance\n",
      "Topic 9 :\t nil,oil,week,april,coffee,energy,previous,ended,total,demand\n"
     ]
    }
   ],
   "source": [
    "for ti in range(n_topic):\n",
    "    top_words = get_top_words(model.TW, voca, ti, n_words=10)\n",
    "    print('Topic', ti ,':\\t', ','.join(top_words))"
   ]
  },
  {
   "cell_type": "markdown",
   "metadata": {},
   "source": [
    "## Inferencen through the Variational Bayes"
   ]
  },
  {
   "cell_type": "code",
   "execution_count": 5,
   "metadata": {
    "collapsed": false
   },
   "outputs": [
    {
     "name": "stderr",
     "output_type": "stream",
     "text": [
      "2016-02-10 12:27:02 INFO:vbLDA:[ITER] 0,\telapsed time:0.74,\tELBO:-478442.17\n",
      "2016-02-10 12:27:03 INFO:vbLDA:[ITER] 1,\telapsed time:0.74,\tELBO:-424328.44\n",
      "2016-02-10 12:27:03 INFO:vbLDA:[ITER] 2,\telapsed time:0.75,\tELBO:-380822.76\n",
      "2016-02-10 12:27:04 INFO:vbLDA:[ITER] 3,\telapsed time:0.76,\tELBO:-364495.11\n",
      "2016-02-10 12:27:05 INFO:vbLDA:[ITER] 4,\telapsed time:0.74,\tELBO:-357748.04\n",
      "2016-02-10 12:27:06 INFO:vbLDA:[ITER] 5,\telapsed time:0.68,\tELBO:-354538.79\n",
      "2016-02-10 12:27:06 INFO:vbLDA:[ITER] 6,\telapsed time:0.71,\tELBO:-352846.53\n",
      "2016-02-10 12:27:07 INFO:vbLDA:[ITER] 7,\telapsed time:0.74,\tELBO:-351740.02\n",
      "2016-02-10 12:27:08 INFO:vbLDA:[ITER] 8,\telapsed time:0.75,\tELBO:-351030.75\n",
      "2016-02-10 12:27:09 INFO:vbLDA:[ITER] 9,\telapsed time:0.75,\tELBO:-350547.28\n",
      "2016-02-10 12:27:09 INFO:vbLDA:[ITER] 10,\telapsed time:0.74,\tELBO:-350240.43\n",
      "2016-02-10 12:27:10 INFO:vbLDA:[ITER] 11,\telapsed time:0.70,\tELBO:-350014.87\n",
      "2016-02-10 12:27:11 INFO:vbLDA:[ITER] 12,\telapsed time:0.70,\tELBO:-349820.68\n",
      "2016-02-10 12:27:11 INFO:vbLDA:[ITER] 13,\telapsed time:0.70,\tELBO:-349629.62\n",
      "2016-02-10 12:27:12 INFO:vbLDA:[ITER] 14,\telapsed time:0.65,\tELBO:-349466.10\n",
      "2016-02-10 12:27:13 INFO:vbLDA:[ITER] 15,\telapsed time:0.64,\tELBO:-349340.75\n",
      "2016-02-10 12:27:13 INFO:vbLDA:[ITER] 16,\telapsed time:0.67,\tELBO:-349238.89\n",
      "2016-02-10 12:27:14 INFO:vbLDA:[ITER] 17,\telapsed time:0.66,\tELBO:-349156.67\n",
      "2016-02-10 12:27:15 INFO:vbLDA:[ITER] 18,\telapsed time:0.66,\tELBO:-349102.47\n",
      "2016-02-10 12:27:15 INFO:vbLDA:[ITER] 19,\telapsed time:0.65,\tELBO:-349065.57\n",
      "2016-02-10 12:27:16 INFO:vbLDA:[ITER] 20,\telapsed time:0.65,\tELBO:-349035.66\n",
      "2016-02-10 12:27:17 INFO:vbLDA:[ITER] 21,\telapsed time:0.69,\tELBO:-349000.43\n",
      "2016-02-10 12:27:17 INFO:vbLDA:[ITER] 22,\telapsed time:0.67,\tELBO:-348960.63\n",
      "2016-02-10 12:27:18 INFO:vbLDA:[ITER] 23,\telapsed time:0.72,\tELBO:-348930.03\n",
      "2016-02-10 12:27:19 INFO:vbLDA:[ITER] 24,\telapsed time:0.68,\tELBO:-348908.76\n",
      "2016-02-10 12:27:19 INFO:vbLDA:[ITER] 25,\telapsed time:0.69,\tELBO:-348887.26\n",
      "2016-02-10 12:27:20 INFO:vbLDA:[ITER] 26,\telapsed time:0.69,\tELBO:-348873.37\n",
      "2016-02-10 12:27:21 INFO:vbLDA:[ITER] 27,\telapsed time:0.69,\tELBO:-348856.96\n",
      "2016-02-10 12:27:21 INFO:vbLDA:[ITER] 28,\telapsed time:0.67,\tELBO:-348835.84\n",
      "2016-02-10 12:27:22 INFO:vbLDA:[ITER] 29,\telapsed time:0.68,\tELBO:-348816.38\n",
      "2016-02-10 12:27:23 INFO:vbLDA:[ITER] 30,\telapsed time:0.60,\tELBO:-348797.45\n",
      "2016-02-10 12:27:23 INFO:vbLDA:[ITER] 31,\telapsed time:0.58,\tELBO:-348784.59\n",
      "2016-02-10 12:27:24 INFO:vbLDA:[ITER] 32,\telapsed time:0.59,\tELBO:-348769.90\n",
      "2016-02-10 12:27:25 INFO:vbLDA:[ITER] 33,\telapsed time:0.60,\tELBO:-348762.00\n",
      "2016-02-10 12:27:25 INFO:vbLDA:[ITER] 34,\telapsed time:0.58,\tELBO:-348758.91\n",
      "2016-02-10 12:27:26 INFO:vbLDA:[ITER] 35,\telapsed time:0.59,\tELBO:-348752.50\n",
      "2016-02-10 12:27:26 INFO:vbLDA:[ITER] 36,\telapsed time:0.60,\tELBO:-348748.45\n",
      "2016-02-10 12:27:27 INFO:vbLDA:[ITER] 37,\telapsed time:0.60,\tELBO:-348742.42\n",
      "2016-02-10 12:27:27 INFO:vbLDA:[ITER] 38,\telapsed time:0.57,\tELBO:-348734.81\n",
      "2016-02-10 12:27:28 INFO:vbLDA:[ITER] 39,\telapsed time:0.68,\tELBO:-348726.20\n",
      "2016-02-10 12:27:29 INFO:vbLDA:[ITER] 40,\telapsed time:0.65,\tELBO:-348723.25\n",
      "2016-02-10 12:27:29 INFO:vbLDA:[ITER] 41,\telapsed time:0.65,\tELBO:-348720.58\n",
      "2016-02-10 12:27:30 INFO:vbLDA:[ITER] 42,\telapsed time:0.66,\tELBO:-348717.74\n",
      "2016-02-10 12:27:31 INFO:vbLDA:[ITER] 43,\telapsed time:0.67,\tELBO:-348714.29\n",
      "2016-02-10 12:27:31 INFO:vbLDA:[ITER] 44,\telapsed time:0.65,\tELBO:-348710.44\n",
      "2016-02-10 12:27:32 INFO:vbLDA:[ITER] 45,\telapsed time:0.64,\tELBO:-348707.64\n",
      "2016-02-10 12:27:33 INFO:vbLDA:[ITER] 46,\telapsed time:0.68,\tELBO:-348704.24\n",
      "2016-02-10 12:27:33 INFO:vbLDA:[ITER] 47,\telapsed time:0.65,\tELBO:-348702.43\n",
      "2016-02-10 12:27:34 INFO:vbLDA:[ITER] 48,\telapsed time:0.67,\tELBO:-348702.16\n",
      "2016-02-10 12:27:35 INFO:vbLDA:[ITER] 49,\telapsed time:0.61,\tELBO:-348701.53\n",
      "2016-02-10 12:27:35 INFO:vbLDA:[ITER] 50,\telapsed time:0.67,\tELBO:-348699.84\n",
      "2016-02-10 12:27:36 INFO:vbLDA:[ITER] 51,\telapsed time:0.67,\tELBO:-348698.81\n",
      "2016-02-10 12:27:37 INFO:vbLDA:[ITER] 52,\telapsed time:0.59,\tELBO:-348698.48\n",
      "2016-02-10 12:27:37 INFO:vbLDA:[ITER] 53,\telapsed time:0.65,\tELBO:-348697.55\n",
      "2016-02-10 12:27:38 INFO:vbLDA:[ITER] 54,\telapsed time:0.64,\tELBO:-348694.77\n",
      "2016-02-10 12:27:39 INFO:vbLDA:[ITER] 55,\telapsed time:0.64,\tELBO:-348691.40\n",
      "2016-02-10 12:27:39 INFO:vbLDA:[ITER] 56,\telapsed time:0.64,\tELBO:-348689.71\n",
      "2016-02-10 12:27:40 INFO:vbLDA:[ITER] 57,\telapsed time:0.62,\tELBO:-348689.56\n",
      "2016-02-10 12:27:40 INFO:vbLDA:[ITER] 58,\telapsed time:0.60,\tELBO:-348689.19\n",
      "2016-02-10 12:27:41 INFO:vbLDA:[ITER] 59,\telapsed time:0.58,\tELBO:-348688.10\n",
      "2016-02-10 12:27:42 INFO:vbLDA:[ITER] 60,\telapsed time:0.59,\tELBO:-348685.30\n",
      "2016-02-10 12:27:42 INFO:vbLDA:[ITER] 61,\telapsed time:0.63,\tELBO:-348683.37\n",
      "2016-02-10 12:27:43 INFO:vbLDA:[ITER] 62,\telapsed time:0.59,\tELBO:-348682.89\n",
      "2016-02-10 12:27:43 INFO:vbLDA:[ITER] 63,\telapsed time:0.61,\tELBO:-348681.23\n",
      "2016-02-10 12:27:44 INFO:vbLDA:[ITER] 64,\telapsed time:0.61,\tELBO:-348676.34\n",
      "2016-02-10 12:27:45 INFO:vbLDA:[ITER] 65,\telapsed time:0.65,\tELBO:-348673.16\n",
      "2016-02-10 12:27:45 INFO:vbLDA:[ITER] 66,\telapsed time:0.66,\tELBO:-348670.27\n",
      "2016-02-10 12:27:46 INFO:vbLDA:[ITER] 67,\telapsed time:0.65,\tELBO:-348669.31\n",
      "2016-02-10 12:27:47 INFO:vbLDA:[ITER] 68,\telapsed time:0.66,\tELBO:-348669.31\n",
      "2016-02-10 12:27:47 INFO:vbLDA:[ITER] 69,\telapsed time:0.66,\tELBO:-348669.31\n",
      "2016-02-10 12:27:48 INFO:vbLDA:[ITER] 70,\telapsed time:0.67,\tELBO:-348669.31\n",
      "2016-02-10 12:27:49 INFO:vbLDA:[ITER] 71,\telapsed time:0.67,\tELBO:-348669.30\n",
      "2016-02-10 12:27:49 INFO:vbLDA:[ITER] 72,\telapsed time:0.65,\tELBO:-348669.30\n",
      "2016-02-10 12:27:50 INFO:vbLDA:[ITER] 73,\telapsed time:0.68,\tELBO:-348669.29\n",
      "2016-02-10 12:27:51 INFO:vbLDA:[ITER] 74,\telapsed time:0.67,\tELBO:-348669.28\n",
      "2016-02-10 12:27:51 INFO:vbLDA:[ITER] 75,\telapsed time:0.65,\tELBO:-348669.27\n",
      "2016-02-10 12:27:52 INFO:vbLDA:[ITER] 76,\telapsed time:0.57,\tELBO:-348669.24\n",
      "2016-02-10 12:27:52 INFO:vbLDA:[ITER] 77,\telapsed time:0.62,\tELBO:-348669.18\n",
      "2016-02-10 12:27:53 INFO:vbLDA:[ITER] 78,\telapsed time:0.66,\tELBO:-348669.04\n",
      "2016-02-10 12:27:54 INFO:vbLDA:[ITER] 79,\telapsed time:0.67,\tELBO:-348668.61\n",
      "2016-02-10 12:27:54 INFO:vbLDA:[ITER] 80,\telapsed time:0.67,\tELBO:-348667.14\n",
      "2016-02-10 12:27:55 INFO:vbLDA:[ITER] 81,\telapsed time:0.66,\tELBO:-348666.06\n",
      "2016-02-10 12:27:56 INFO:vbLDA:[ITER] 82,\telapsed time:0.66,\tELBO:-348665.56\n",
      "2016-02-10 12:27:56 INFO:vbLDA:[ITER] 83,\telapsed time:0.64,\tELBO:-348663.81\n",
      "2016-02-10 12:27:57 INFO:vbLDA:[ITER] 84,\telapsed time:0.69,\tELBO:-348663.64\n",
      "2016-02-10 12:27:58 INFO:vbLDA:[ITER] 85,\telapsed time:0.66,\tELBO:-348663.61\n",
      "2016-02-10 12:27:58 INFO:vbLDA:[ITER] 86,\telapsed time:0.68,\tELBO:-348663.52\n",
      "2016-02-10 12:27:59 INFO:vbLDA:[ITER] 87,\telapsed time:0.64,\tELBO:-348663.19\n",
      "2016-02-10 12:28:00 INFO:vbLDA:[ITER] 88,\telapsed time:0.59,\tELBO:-348661.87\n",
      "2016-02-10 12:28:00 INFO:vbLDA:[ITER] 89,\telapsed time:0.67,\tELBO:-348660.82\n",
      "2016-02-10 12:28:01 INFO:vbLDA:[ITER] 90,\telapsed time:0.61,\tELBO:-348660.81\n",
      "2016-02-10 12:28:02 INFO:vbLDA:[ITER] 91,\telapsed time:0.58,\tELBO:-348660.80\n",
      "2016-02-10 12:28:02 INFO:vbLDA:[ITER] 92,\telapsed time:0.58,\tELBO:-348660.79\n",
      "2016-02-10 12:28:03 INFO:vbLDA:[ITER] 93,\telapsed time:0.57,\tELBO:-348660.76\n",
      "2016-02-10 12:28:03 INFO:vbLDA:[ITER] 94,\telapsed time:0.67,\tELBO:-348660.72\n",
      "2016-02-10 12:28:04 INFO:vbLDA:[ITER] 95,\telapsed time:0.67,\tELBO:-348660.64\n",
      "2016-02-10 12:28:05 INFO:vbLDA:[ITER] 96,\telapsed time:0.66,\tELBO:-348660.45\n",
      "2016-02-10 12:28:05 INFO:vbLDA:[ITER] 97,\telapsed time:0.65,\tELBO:-348659.95\n",
      "2016-02-10 12:28:06 INFO:vbLDA:[ITER] 98,\telapsed time:0.65,\tELBO:-348658.39\n",
      "2016-02-10 12:28:07 INFO:vbLDA:[ITER] 99,\telapsed time:0.62,\tELBO:-348655.20\n"
     ]
    }
   ],
   "source": [
    "logger = logging.getLogger('vbLDA')\n",
    "logger.propagate = False\n",
    "\n",
    "vbmodel = vbLDA(n_doc, n_voca, n_topic)\n",
    "vbmodel.fit(doc_ids, doc_cnt, max_iter=max_iter)"
   ]
  },
  {
   "cell_type": "markdown",
   "metadata": {
    "collapsed": true
   },
   "source": [
    "### Print top 10 probability words for each topic"
   ]
  },
  {
   "cell_type": "code",
   "execution_count": 6,
   "metadata": {
    "collapsed": false
   },
   "outputs": [
    {
     "name": "stdout",
     "output_type": "stream",
     "text": [
      "Topic 0 :\t dollar,would,japan,market,trade,may,currency,monetary,meeting,bank\n",
      "Topic 1 :\t week,fed,oil,would,gas,tax,last,one,april,two\n",
      "Topic 2 :\t first,share,quarter,profit,earnings,corp,per,loss,new,assets\n",
      "Topic 3 :\t corp,dome,stock,offer,would,debt,share,acquisition,business,borg\n",
      "Topic 4 :\t bank,quarter,first,march,rate,market,days,money,rose,new\n",
      "Topic 5 :\t april,one,stock,dividend,share,record,split,may,five,bank\n",
      "Topic 6 :\t trade,japan,would,also,deficit,japanese,agreement,told,new,official\n",
      "Topic 7 :\t last,month,crop,economic,surplus,trade,february,forecast,wheat,sugar\n",
      "Topic 8 :\t nil,loss,stocks,production,total,end,use,start,profit,supply\n",
      "Topic 9 :\t profit,share,price,two,per,coffee,corp,would,one,oil\n"
     ]
    }
   ],
   "source": [
    "for ti in range(n_topic):\n",
    "    top_words = get_top_words(vbmodel._lambda, voca, ti, n_words=10)\n",
    "    print('Topic', ti ,':\\t', ','.join(top_words))"
   ]
  },
  {
   "cell_type": "code",
   "execution_count": null,
   "metadata": {
    "collapsed": true
   },
   "outputs": [],
   "source": []
  }
 ],
 "metadata": {
  "kernelspec": {
   "display_name": "Python 3",
   "language": "python",
   "name": "python3"
  },
  "language_info": {
   "codemirror_mode": {
    "name": "ipython",
    "version": 3
   },
   "file_extension": ".py",
   "mimetype": "text/x-python",
   "name": "python",
   "nbconvert_exporter": "python",
   "pygments_lexer": "ipython3",
   "version": "3.4.3"
  }
 },
 "nbformat": 4,
 "nbformat_minor": 0
}
